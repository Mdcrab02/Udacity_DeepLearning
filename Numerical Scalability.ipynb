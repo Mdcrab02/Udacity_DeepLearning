{
 "cells": [
  {
   "cell_type": "markdown",
   "metadata": {},
   "source": [
    "When doing computation on very large numbers, just the act of adding very small numbers\n",
    " to a very large number can introduce many errors."
   ]
  },
  {
   "cell_type": "code",
   "execution_count": 7,
   "metadata": {
    "collapsed": false
   },
   "outputs": [
    {
     "name": "stdout",
     "output_type": "stream",
     "text": [
      "1000000000.9536734\n",
      "0.9536733627319336\n"
     ]
    }
   ],
   "source": [
    "#Take the following example:\n",
    "num_test = 1000000000\n",
    "num_test2 = 0\n",
    "for i in range(1,1000000):\n",
    "    num_test =  num_test + 1e-6\n",
    "print(num_test)\n",
    "\n",
    "num_test = num_test - 1000000000\n",
    "\n",
    "#Notice how this is not 1 even though mathematically it should be.\n",
    "# This is the idea behind numerical scalability\n",
    "print(num_test)"
   ]
  },
  {
   "cell_type": "markdown",
   "metadata": {},
   "source": [
    "Whever possible, you want variables to have a mean of 0 and equal variance\n",
    " Otherwise, optimizer functions have to search long and hard for the global minimum\n",
    " This is the foundation of the reason behind normalization\n",
    "\n",
    "For images, for example, RGB values range from 0 to 255.\n",
    " The following formula would have the three variables well-conditioned.\n",
    " R - 128 / 128\n",
    " G - 128 / 128\n",
    " B - 128 / 128\n",
    "\n",
    "For the example formula from softmax regression earlier, we have as follows:\n",
    " D(S(Wx + b), L)\n",
    " So, we want to initialize W0 and b0 as good as we can to make it more efficient\n",
    " One easy way is to draw the initial weights randomly from a gaussian distribution\n",
    " with mean 0 and standard deviation sigma where sigma's value affects the magnitude\n",
    " such that a large sigma makes the softmax \"peaky.\"  Generally, start small."
   ]
  }
 ],
 "metadata": {
  "anaconda-cloud": {},
  "kernelspec": {
   "display_name": "Python [default]",
   "language": "python",
   "name": "python3"
  },
  "language_info": {
   "codemirror_mode": {
    "name": "ipython",
    "version": 3
   },
   "file_extension": ".py",
   "mimetype": "text/x-python",
   "name": "python",
   "nbconvert_exporter": "python",
   "pygments_lexer": "ipython3",
   "version": "3.5.2"
  }
 },
 "nbformat": 4,
 "nbformat_minor": 1
}
